{
  "nbformat": 4,
  "nbformat_minor": 0,
  "metadata": {
    "colab": {
      "name": "mini.ipynb",
      "provenance": [],
      "collapsed_sections": []
    },
    "kernelspec": {
      "name": "python3",
      "display_name": "Python 3"
    },
    "language_info": {
      "name": "python"
    }
  },
  "cells": [
    {
      "cell_type": "code",
      "execution_count": null,
      "metadata": {
        "id": "SGU2aa1TvmO2"
      },
      "outputs": [],
      "source": [
        "!pip install -q sklearn"
      ]
    },
    {
      "cell_type": "code",
      "source": [
        "%tensorflow_version 2.x\n",
        "import tensorflow as tf\n",
        "from tensorflow import keras\n",
        "import numpy as np\n",
        "import pandas as pd\n",
        "from sklearn.model_selection import train_test_split\n",
        "from sklearn.datasets import load_breast_cancer\n",
        "import os\n",
        "import random\n",
        "import tkinter \n",
        "\n"
      ],
      "metadata": {
        "id": "l49DXSZjwsqT"
      },
      "execution_count": null,
      "outputs": []
    },
    {
      "cell_type": "code",
      "source": [
        "#DEFINE FUNCTIONS TO BE USED\n",
        "def reset_random_seeds():\n",
        "  os.environ['PYTHONHASHSEED']=str(1)\n",
        "  tf.random.set_seed(1)\n",
        "  np.random.seed(1)\n",
        "  random.seed(1)\n",
        "\n"
      ],
      "metadata": {
        "id": "BjvX1KZsxbLN"
      },
      "execution_count": null,
      "outputs": []
    },
    {
      "cell_type": "code",
      "source": [
        "from sklearn.datasets import load_breast_cancer\n",
        "data = load_breast_cancer()\n",
        "print(data)\n",
        "print(data.keys())"
      ],
      "metadata": {
        "colab": {
          "base_uri": "https://localhost:8080/"
        },
        "id": "ffO4GaPk8pj7",
        "outputId": "4e81b18c-89e4-420a-87b9-04b9f11e4393"
      },
      "execution_count": null,
      "outputs": [
        {
          "output_type": "stream",
          "name": "stdout",
          "text": [
            "{'data': array([[1.799e+01, 1.038e+01, 1.228e+02, ..., 2.654e-01, 4.601e-01,\n",
            "        1.189e-01],\n",
            "       [2.057e+01, 1.777e+01, 1.329e+02, ..., 1.860e-01, 2.750e-01,\n",
            "        8.902e-02],\n",
            "       [1.969e+01, 2.125e+01, 1.300e+02, ..., 2.430e-01, 3.613e-01,\n",
            "        8.758e-02],\n",
            "       ...,\n",
            "       [1.660e+01, 2.808e+01, 1.083e+02, ..., 1.418e-01, 2.218e-01,\n",
            "        7.820e-02],\n",
            "       [2.060e+01, 2.933e+01, 1.401e+02, ..., 2.650e-01, 4.087e-01,\n",
            "        1.240e-01],\n",
            "       [7.760e+00, 2.454e+01, 4.792e+01, ..., 0.000e+00, 2.871e-01,\n",
            "        7.039e-02]]), 'target': array([0, 0, 0, 0, 0, 0, 0, 0, 0, 0, 0, 0, 0, 0, 0, 0, 0, 0, 0, 1, 1, 1,\n",
            "       0, 0, 0, 0, 0, 0, 0, 0, 0, 0, 0, 0, 0, 0, 0, 1, 0, 0, 0, 0, 0, 0,\n",
            "       0, 0, 1, 0, 1, 1, 1, 1, 1, 0, 0, 1, 0, 0, 1, 1, 1, 1, 0, 1, 0, 0,\n",
            "       1, 1, 1, 1, 0, 1, 0, 0, 1, 0, 1, 0, 0, 1, 1, 1, 0, 0, 1, 0, 0, 0,\n",
            "       1, 1, 1, 0, 1, 1, 0, 0, 1, 1, 1, 0, 0, 1, 1, 1, 1, 0, 1, 1, 0, 1,\n",
            "       1, 1, 1, 1, 1, 1, 1, 0, 0, 0, 1, 0, 0, 1, 1, 1, 0, 0, 1, 0, 1, 0,\n",
            "       0, 1, 0, 0, 1, 1, 0, 1, 1, 0, 1, 1, 1, 1, 0, 1, 1, 1, 1, 1, 1, 1,\n",
            "       1, 1, 0, 1, 1, 1, 1, 0, 0, 1, 0, 1, 1, 0, 0, 1, 1, 0, 0, 1, 1, 1,\n",
            "       1, 0, 1, 1, 0, 0, 0, 1, 0, 1, 0, 1, 1, 1, 0, 1, 1, 0, 0, 1, 0, 0,\n",
            "       0, 0, 1, 0, 0, 0, 1, 0, 1, 0, 1, 1, 0, 1, 0, 0, 0, 0, 1, 1, 0, 0,\n",
            "       1, 1, 1, 0, 1, 1, 1, 1, 1, 0, 0, 1, 1, 0, 1, 1, 0, 0, 1, 0, 1, 1,\n",
            "       1, 1, 0, 1, 1, 1, 1, 1, 0, 1, 0, 0, 0, 0, 0, 0, 0, 0, 0, 0, 0, 0,\n",
            "       0, 0, 1, 1, 1, 1, 1, 1, 0, 1, 0, 1, 1, 0, 1, 1, 0, 1, 0, 0, 1, 1,\n",
            "       1, 1, 1, 1, 1, 1, 1, 1, 1, 1, 1, 0, 1, 1, 0, 1, 0, 1, 1, 1, 1, 1,\n",
            "       1, 1, 1, 1, 1, 1, 1, 1, 1, 0, 1, 1, 1, 0, 1, 0, 1, 1, 1, 1, 0, 0,\n",
            "       0, 1, 1, 1, 1, 0, 1, 0, 1, 0, 1, 1, 1, 0, 1, 1, 1, 1, 1, 1, 1, 0,\n",
            "       0, 0, 1, 1, 1, 1, 1, 1, 1, 1, 1, 1, 1, 0, 0, 1, 0, 0, 0, 1, 0, 0,\n",
            "       1, 1, 1, 1, 1, 0, 1, 1, 1, 1, 1, 0, 1, 1, 1, 0, 1, 1, 0, 0, 1, 1,\n",
            "       1, 1, 1, 1, 0, 1, 1, 1, 1, 1, 1, 1, 0, 1, 1, 1, 1, 1, 0, 1, 1, 0,\n",
            "       1, 1, 1, 1, 1, 1, 1, 1, 1, 1, 1, 1, 0, 1, 0, 0, 1, 0, 1, 1, 1, 1,\n",
            "       1, 0, 1, 1, 0, 1, 0, 1, 1, 0, 1, 0, 1, 1, 1, 1, 1, 1, 1, 1, 0, 0,\n",
            "       1, 1, 1, 1, 1, 1, 0, 1, 1, 1, 1, 1, 1, 1, 1, 1, 1, 0, 1, 1, 1, 1,\n",
            "       1, 1, 1, 0, 1, 0, 1, 1, 0, 1, 1, 1, 1, 1, 0, 0, 1, 0, 1, 0, 1, 1,\n",
            "       1, 1, 1, 0, 1, 1, 0, 1, 0, 1, 0, 0, 1, 1, 1, 0, 1, 1, 1, 1, 1, 1,\n",
            "       1, 1, 1, 1, 1, 0, 1, 0, 0, 1, 1, 1, 1, 1, 1, 1, 1, 1, 1, 1, 1, 1,\n",
            "       1, 1, 1, 1, 1, 1, 1, 1, 1, 1, 1, 1, 0, 0, 0, 0, 0, 0, 1]), 'frame': None, 'target_names': array(['malignant', 'benign'], dtype='<U9'), 'DESCR': '.. _breast_cancer_dataset:\\n\\nBreast cancer wisconsin (diagnostic) dataset\\n--------------------------------------------\\n\\n**Data Set Characteristics:**\\n\\n    :Number of Instances: 569\\n\\n    :Number of Attributes: 30 numeric, predictive attributes and the class\\n\\n    :Attribute Information:\\n        - radius (mean of distances from center to points on the perimeter)\\n        - texture (standard deviation of gray-scale values)\\n        - perimeter\\n        - area\\n        - smoothness (local variation in radius lengths)\\n        - compactness (perimeter^2 / area - 1.0)\\n        - concavity (severity of concave portions of the contour)\\n        - concave points (number of concave portions of the contour)\\n        - symmetry\\n        - fractal dimension (\"coastline approximation\" - 1)\\n\\n        The mean, standard error, and \"worst\" or largest (mean of the three\\n        worst/largest values) of these features were computed for each image,\\n        resulting in 30 features.  For instance, field 0 is Mean Radius, field\\n        10 is Radius SE, field 20 is Worst Radius.\\n\\n        - class:\\n                - WDBC-Malignant\\n                - WDBC-Benign\\n\\n    :Summary Statistics:\\n\\n    ===================================== ====== ======\\n                                           Min    Max\\n    ===================================== ====== ======\\n    radius (mean):                        6.981  28.11\\n    texture (mean):                       9.71   39.28\\n    perimeter (mean):                     43.79  188.5\\n    area (mean):                          143.5  2501.0\\n    smoothness (mean):                    0.053  0.163\\n    compactness (mean):                   0.019  0.345\\n    concavity (mean):                     0.0    0.427\\n    concave points (mean):                0.0    0.201\\n    symmetry (mean):                      0.106  0.304\\n    fractal dimension (mean):             0.05   0.097\\n    radius (standard error):              0.112  2.873\\n    texture (standard error):             0.36   4.885\\n    perimeter (standard error):           0.757  21.98\\n    area (standard error):                6.802  542.2\\n    smoothness (standard error):          0.002  0.031\\n    compactness (standard error):         0.002  0.135\\n    concavity (standard error):           0.0    0.396\\n    concave points (standard error):      0.0    0.053\\n    symmetry (standard error):            0.008  0.079\\n    fractal dimension (standard error):   0.001  0.03\\n    radius (worst):                       7.93   36.04\\n    texture (worst):                      12.02  49.54\\n    perimeter (worst):                    50.41  251.2\\n    area (worst):                         185.2  4254.0\\n    smoothness (worst):                   0.071  0.223\\n    compactness (worst):                  0.027  1.058\\n    concavity (worst):                    0.0    1.252\\n    concave points (worst):               0.0    0.291\\n    symmetry (worst):                     0.156  0.664\\n    fractal dimension (worst):            0.055  0.208\\n    ===================================== ====== ======\\n\\n    :Missing Attribute Values: None\\n\\n    :Class Distribution: 212 - Malignant, 357 - Benign\\n\\n    :Creator:  Dr. William H. Wolberg, W. Nick Street, Olvi L. Mangasarian\\n\\n    :Donor: Nick Street\\n\\n    :Date: November, 1995\\n\\nThis is a copy of UCI ML Breast Cancer Wisconsin (Diagnostic) datasets.\\nhttps://goo.gl/U2Uwz2\\n\\nFeatures are computed from a digitized image of a fine needle\\naspirate (FNA) of a breast mass.  They describe\\ncharacteristics of the cell nuclei present in the image.\\n\\nSeparating plane described above was obtained using\\nMultisurface Method-Tree (MSM-T) [K. P. Bennett, \"Decision Tree\\nConstruction Via Linear Programming.\" Proceedings of the 4th\\nMidwest Artificial Intelligence and Cognitive Science Society,\\npp. 97-101, 1992], a classification method which uses linear\\nprogramming to construct a decision tree.  Relevant features\\nwere selected using an exhaustive search in the space of 1-4\\nfeatures and 1-3 separating planes.\\n\\nThe actual linear program used to obtain the separating plane\\nin the 3-dimensional space is that described in:\\n[K. P. Bennett and O. L. Mangasarian: \"Robust Linear\\nProgramming Discrimination of Two Linearly Inseparable Sets\",\\nOptimization Methods and Software 1, 1992, 23-34].\\n\\nThis database is also available through the UW CS ftp server:\\n\\nftp ftp.cs.wisc.edu\\ncd math-prog/cpo-dataset/machine-learn/WDBC/\\n\\n.. topic:: References\\n\\n   - W.N. Street, W.H. Wolberg and O.L. Mangasarian. Nuclear feature extraction \\n     for breast tumor diagnosis. IS&T/SPIE 1993 International Symposium on \\n     Electronic Imaging: Science and Technology, volume 1905, pages 861-870,\\n     San Jose, CA, 1993.\\n   - O.L. Mangasarian, W.N. Street and W.H. Wolberg. Breast cancer diagnosis and \\n     prognosis via linear programming. Operations Research, 43(4), pages 570-577, \\n     July-August 1995.\\n   - W.H. Wolberg, W.N. Street, and O.L. Mangasarian. Machine learning techniques\\n     to diagnose breast cancer from fine-needle aspirates. Cancer Letters 77 (1994) \\n     163-171.', 'feature_names': array(['mean radius', 'mean texture', 'mean perimeter', 'mean area',\n",
            "       'mean smoothness', 'mean compactness', 'mean concavity',\n",
            "       'mean concave points', 'mean symmetry', 'mean fractal dimension',\n",
            "       'radius error', 'texture error', 'perimeter error', 'area error',\n",
            "       'smoothness error', 'compactness error', 'concavity error',\n",
            "       'concave points error', 'symmetry error',\n",
            "       'fractal dimension error', 'worst radius', 'worst texture',\n",
            "       'worst perimeter', 'worst area', 'worst smoothness',\n",
            "       'worst compactness', 'worst concavity', 'worst concave points',\n",
            "       'worst symmetry', 'worst fractal dimension'], dtype='<U23'), 'filename': 'breast_cancer.csv', 'data_module': 'sklearn.datasets.data'}\n",
            "dict_keys(['data', 'target', 'frame', 'target_names', 'DESCR', 'feature_names', 'filename', 'data_module'])\n"
          ]
        }
      ]
    },
    {
      "cell_type": "code",
      "source": [
        "def normalize(data):\n",
        "  data_normal = (data - data.mean()) / (data.std())\n",
        "  return data_normal\n",
        "\n"
      ],
      "metadata": {
        "id": "uhdDoFzsyq7l"
      },
      "execution_count": null,
      "outputs": []
    },
    {
      "cell_type": "code",
      "source": [
        "def transform(data):\n",
        "  data = np.array(data)\n",
        "  data = normalize(data)\n",
        "  data = pd.DataFrame(data).transpose()\n",
        "  #print(data)\n",
        "  return data"
      ],
      "metadata": {
        "id": "jMVv8T5ky0Jm"
      },
      "execution_count": null,
      "outputs": []
    },
    {
      "cell_type": "code",
      "source": [
        "def read_input(no_features):\n",
        "  ip_data = []\n",
        "  for i in range(no_features):\n",
        "    print(X.columns[i], ': ', end = '')\n",
        "    ip_data.append(float(input()))\n",
        "    print()\n",
        "  return ip_data\n",
        "\n"
      ],
      "metadata": {
        "id": "J50KY1kXzZ_m"
      },
      "execution_count": null,
      "outputs": []
    },
    {
      "cell_type": "code",
      "source": [
        "def class_label(probability):\n",
        "  for i in probability:\n",
        "    if (i < 0.5):\n",
        "      print('BENIGN')\n",
        "    else:\n",
        "      print('MALIGNANT')"
      ],
      "metadata": {
        "id": "VuB3U7_jztaP"
      },
      "execution_count": null,
      "outputs": []
    },
    {
      "cell_type": "code",
      "source": [
        "#LOAD AND PREPROCESS THE DATA\n",
        "cancer = load_breast_cancer()\n",
        "cancerdf = pd.concat([pd.DataFrame(cancer.data), pd.DataFrame(cancer.target)], axis=1)\n",
        "cancerdf.columns = np.append(cancer.feature_names,'target')\n",
        "\n"
      ],
      "metadata": {
        "id": "XKWA5StBz-Jd"
      },
      "execution_count": null,
      "outputs": []
    },
    {
      "cell_type": "code",
      "source": [
        "X = cancerdf.drop('target', axis = 1) # All columns but the last one.\n",
        "X = normalize(X)\n",
        "drop_list = ['mean perimeter','mean radius','mean compactness','mean concave points','radius error','perimeter error','worst radius',\n",
        "'worst perimeter','worst compactness','worst concave points','compactness error','concave points error','worst texture','worst area']"
      ],
      "metadata": {
        "id": "rlLy4SK10DMW"
      },
      "execution_count": null,
      "outputs": []
    },
    {
      "cell_type": "code",
      "source": [
        "#SPLIT THE DATA\n",
        "X = X.drop(drop_list, axis = 1)\n",
        "\n"
      ],
      "metadata": {
        "id": "3--YNIgd0hOD"
      },
      "execution_count": null,
      "outputs": []
    },
    {
      "cell_type": "code",
      "source": [
        "y = cancerdf['target'] # Just the last column."
      ],
      "metadata": {
        "id": "P2KeGKBe2jHL"
      },
      "execution_count": null,
      "outputs": []
    },
    {
      "cell_type": "code",
      "source": [
        "X_train, X_test, y_train, y_test = train_test_split(X, y, test_size = 0.20, random_state =0)\n",
        "print(X_train.head(5))\n"
      ],
      "metadata": {
        "colab": {
          "base_uri": "https://localhost:8080/"
        },
        "id": "ra2jwhLa2k2v",
        "outputId": "ba6218dc-8df5-4d5e-c261-580b134357f5"
      },
      "execution_count": null,
      "outputs": [
        {
          "output_type": "stream",
          "name": "stdout",
          "text": [
            "     mean texture  mean area  ...  worst symmetry  worst fractal dimension\n",
            "338     -0.409122  -0.977764  ...       -0.010920                -0.404502\n",
            "427      0.625512  -0.838242  ...        0.103842                -0.405609\n",
            "406     -1.029903   0.412347  ...       -0.198417                -0.765495\n",
            "96      -0.337046  -0.579088  ...       -1.089031                -0.563959\n",
            "490      0.732463  -0.535327  ...        0.322050                -0.106073\n",
            "\n",
            "[5 rows x 16 columns]\n"
          ]
        }
      ]
    },
    {
      "cell_type": "code",
      "source": [
        "#DEFINE THE DNN ARCHITECTURE\n",
        "reset_random_seeds()\n",
        "model = keras.Sequential([\n",
        "                          keras.layers.Flatten(input_shape=(16,)), # input layer\n",
        "                          keras.layers.Dense(10, activation='relu'), # hidden layer (1)\n",
        "                          keras.layers.Dense(20, activation='relu'), # hidden layer (2)\n",
        "                          keras.layers.Dense(10, activation='relu'), # hidden layer (3)\n",
        "                          keras.layers.Dense(1, activation='sigmoid') # output layer\n",
        "])\n"
      ],
      "metadata": {
        "id": "KcFR-hC4CqUl"
      },
      "execution_count": null,
      "outputs": []
    },
    {
      "cell_type": "code",
      "source": [
        "#CREATE THE MODEL\n",
        "model.compile(optimizer=tf.keras.optimizers.Adam(learning_rate=0.001),loss='binary_crossentropy',metrics=['accuracy'])\n"
      ],
      "metadata": {
        "id": "wafuwmGGCqkP"
      },
      "execution_count": null,
      "outputs": []
    },
    {
      "cell_type": "code",
      "source": [
        "#TRAIN THE MODEL\n",
        "model.fit(X_train, y_train, epochs=86)\n"
      ],
      "metadata": {
        "colab": {
          "base_uri": "https://localhost:8080/"
        },
        "id": "Z58-dCOUIcB0",
        "outputId": "62ef0a50-a637-43e5-cb48-162c5513a47a"
      },
      "execution_count": null,
      "outputs": [
        {
          "output_type": "stream",
          "name": "stdout",
          "text": [
            "Epoch 1/86\n",
            "15/15 [==============================] - 1s 2ms/step - loss: 0.6882 - accuracy: 0.5890\n",
            "Epoch 2/86\n",
            "15/15 [==============================] - 0s 2ms/step - loss: 0.6412 - accuracy: 0.7824\n",
            "Epoch 3/86\n",
            "15/15 [==============================] - 0s 2ms/step - loss: 0.6003 - accuracy: 0.8352\n",
            "Epoch 4/86\n",
            "15/15 [==============================] - 0s 2ms/step - loss: 0.5568 - accuracy: 0.8615\n",
            "Epoch 5/86\n",
            "15/15 [==============================] - 0s 2ms/step - loss: 0.5064 - accuracy: 0.8879\n",
            "Epoch 6/86\n",
            "15/15 [==============================] - 0s 2ms/step - loss: 0.4517 - accuracy: 0.8989\n",
            "Epoch 7/86\n",
            "15/15 [==============================] - 0s 2ms/step - loss: 0.3957 - accuracy: 0.9121\n",
            "Epoch 8/86\n",
            "15/15 [==============================] - 0s 2ms/step - loss: 0.3418 - accuracy: 0.9231\n",
            "Epoch 9/86\n",
            "15/15 [==============================] - 0s 2ms/step - loss: 0.2950 - accuracy: 0.9341\n",
            "Epoch 10/86\n",
            "15/15 [==============================] - 0s 2ms/step - loss: 0.2535 - accuracy: 0.9429\n",
            "Epoch 11/86\n",
            "15/15 [==============================] - 0s 2ms/step - loss: 0.2192 - accuracy: 0.9560\n",
            "Epoch 12/86\n",
            "15/15 [==============================] - 0s 2ms/step - loss: 0.1913 - accuracy: 0.9538\n",
            "Epoch 13/86\n",
            "15/15 [==============================] - 0s 2ms/step - loss: 0.1676 - accuracy: 0.9582\n",
            "Epoch 14/86\n",
            "15/15 [==============================] - 0s 2ms/step - loss: 0.1479 - accuracy: 0.9670\n",
            "Epoch 15/86\n",
            "15/15 [==============================] - 0s 2ms/step - loss: 0.1326 - accuracy: 0.9670\n",
            "Epoch 16/86\n",
            "15/15 [==============================] - 0s 2ms/step - loss: 0.1207 - accuracy: 0.9648\n",
            "Epoch 17/86\n",
            "15/15 [==============================] - 0s 2ms/step - loss: 0.1107 - accuracy: 0.9670\n",
            "Epoch 18/86\n",
            "15/15 [==============================] - 0s 2ms/step - loss: 0.1034 - accuracy: 0.9692\n",
            "Epoch 19/86\n",
            "15/15 [==============================] - 0s 2ms/step - loss: 0.0971 - accuracy: 0.9736\n",
            "Epoch 20/86\n",
            "15/15 [==============================] - 0s 2ms/step - loss: 0.0922 - accuracy: 0.9736\n",
            "Epoch 21/86\n",
            "15/15 [==============================] - 0s 2ms/step - loss: 0.0891 - accuracy: 0.9736\n",
            "Epoch 22/86\n",
            "15/15 [==============================] - 0s 2ms/step - loss: 0.0865 - accuracy: 0.9758\n",
            "Epoch 23/86\n",
            "15/15 [==============================] - 0s 2ms/step - loss: 0.0833 - accuracy: 0.9758\n",
            "Epoch 24/86\n",
            "15/15 [==============================] - 0s 2ms/step - loss: 0.0807 - accuracy: 0.9758\n",
            "Epoch 25/86\n",
            "15/15 [==============================] - 0s 2ms/step - loss: 0.0788 - accuracy: 0.9758\n",
            "Epoch 26/86\n",
            "15/15 [==============================] - 0s 2ms/step - loss: 0.0770 - accuracy: 0.9758\n",
            "Epoch 27/86\n",
            "15/15 [==============================] - 0s 2ms/step - loss: 0.0752 - accuracy: 0.9758\n",
            "Epoch 28/86\n",
            "15/15 [==============================] - 0s 2ms/step - loss: 0.0738 - accuracy: 0.9758\n",
            "Epoch 29/86\n",
            "15/15 [==============================] - 0s 2ms/step - loss: 0.0723 - accuracy: 0.9758\n",
            "Epoch 30/86\n",
            "15/15 [==============================] - 0s 2ms/step - loss: 0.0718 - accuracy: 0.9758\n",
            "Epoch 31/86\n",
            "15/15 [==============================] - 0s 2ms/step - loss: 0.0691 - accuracy: 0.9758\n",
            "Epoch 32/86\n",
            "15/15 [==============================] - 0s 2ms/step - loss: 0.0694 - accuracy: 0.9802\n",
            "Epoch 33/86\n",
            "15/15 [==============================] - 0s 2ms/step - loss: 0.0680 - accuracy: 0.9758\n",
            "Epoch 34/86\n",
            "15/15 [==============================] - 0s 2ms/step - loss: 0.0664 - accuracy: 0.9802\n",
            "Epoch 35/86\n",
            "15/15 [==============================] - 0s 2ms/step - loss: 0.0664 - accuracy: 0.9802\n",
            "Epoch 36/86\n",
            "15/15 [==============================] - 0s 2ms/step - loss: 0.0651 - accuracy: 0.9802\n",
            "Epoch 37/86\n",
            "15/15 [==============================] - 0s 2ms/step - loss: 0.0634 - accuracy: 0.9802\n",
            "Epoch 38/86\n",
            "15/15 [==============================] - 0s 2ms/step - loss: 0.0627 - accuracy: 0.9824\n",
            "Epoch 39/86\n",
            "15/15 [==============================] - 0s 2ms/step - loss: 0.0615 - accuracy: 0.9802\n",
            "Epoch 40/86\n",
            "15/15 [==============================] - 0s 2ms/step - loss: 0.0605 - accuracy: 0.9802\n",
            "Epoch 41/86\n",
            "15/15 [==============================] - 0s 2ms/step - loss: 0.0593 - accuracy: 0.9824\n",
            "Epoch 42/86\n",
            "15/15 [==============================] - 0s 2ms/step - loss: 0.0588 - accuracy: 0.9802\n",
            "Epoch 43/86\n",
            "15/15 [==============================] - 0s 2ms/step - loss: 0.0575 - accuracy: 0.9824\n",
            "Epoch 44/86\n",
            "15/15 [==============================] - 0s 2ms/step - loss: 0.0573 - accuracy: 0.9802\n",
            "Epoch 45/86\n",
            "15/15 [==============================] - 0s 2ms/step - loss: 0.0561 - accuracy: 0.9824\n",
            "Epoch 46/86\n",
            "15/15 [==============================] - 0s 2ms/step - loss: 0.0549 - accuracy: 0.9846\n",
            "Epoch 47/86\n",
            "15/15 [==============================] - 0s 2ms/step - loss: 0.0550 - accuracy: 0.9846\n",
            "Epoch 48/86\n",
            "15/15 [==============================] - 0s 2ms/step - loss: 0.0539 - accuracy: 0.9868\n",
            "Epoch 49/86\n",
            "15/15 [==============================] - 0s 2ms/step - loss: 0.0529 - accuracy: 0.9846\n",
            "Epoch 50/86\n",
            "15/15 [==============================] - 0s 2ms/step - loss: 0.0525 - accuracy: 0.9868\n",
            "Epoch 51/86\n",
            "15/15 [==============================] - 0s 2ms/step - loss: 0.0513 - accuracy: 0.9890\n",
            "Epoch 52/86\n",
            "15/15 [==============================] - 0s 2ms/step - loss: 0.0517 - accuracy: 0.9868\n",
            "Epoch 53/86\n",
            "15/15 [==============================] - 0s 2ms/step - loss: 0.0501 - accuracy: 0.9890\n",
            "Epoch 54/86\n",
            "15/15 [==============================] - 0s 3ms/step - loss: 0.0493 - accuracy: 0.9890\n",
            "Epoch 55/86\n",
            "15/15 [==============================] - 0s 2ms/step - loss: 0.0490 - accuracy: 0.9890\n",
            "Epoch 56/86\n",
            "15/15 [==============================] - 0s 2ms/step - loss: 0.0486 - accuracy: 0.9890\n",
            "Epoch 57/86\n",
            "15/15 [==============================] - 0s 2ms/step - loss: 0.0473 - accuracy: 0.9890\n",
            "Epoch 58/86\n",
            "15/15 [==============================] - 0s 2ms/step - loss: 0.0468 - accuracy: 0.9890\n",
            "Epoch 59/86\n",
            "15/15 [==============================] - 0s 2ms/step - loss: 0.0459 - accuracy: 0.9868\n",
            "Epoch 60/86\n",
            "15/15 [==============================] - 0s 2ms/step - loss: 0.0458 - accuracy: 0.9868\n",
            "Epoch 61/86\n",
            "15/15 [==============================] - 0s 2ms/step - loss: 0.0457 - accuracy: 0.9912\n",
            "Epoch 62/86\n",
            "15/15 [==============================] - 0s 2ms/step - loss: 0.0442 - accuracy: 0.9912\n",
            "Epoch 63/86\n",
            "15/15 [==============================] - 0s 2ms/step - loss: 0.0436 - accuracy: 0.9912\n",
            "Epoch 64/86\n",
            "15/15 [==============================] - 0s 2ms/step - loss: 0.0432 - accuracy: 0.9912\n",
            "Epoch 65/86\n",
            "15/15 [==============================] - 0s 2ms/step - loss: 0.0425 - accuracy: 0.9912\n",
            "Epoch 66/86\n",
            "15/15 [==============================] - 0s 2ms/step - loss: 0.0420 - accuracy: 0.9912\n",
            "Epoch 67/86\n",
            "15/15 [==============================] - 0s 2ms/step - loss: 0.0412 - accuracy: 0.9912\n",
            "Epoch 68/86\n",
            "15/15 [==============================] - 0s 2ms/step - loss: 0.0408 - accuracy: 0.9912\n",
            "Epoch 69/86\n",
            "15/15 [==============================] - 0s 2ms/step - loss: 0.0400 - accuracy: 0.9912\n",
            "Epoch 70/86\n",
            "15/15 [==============================] - 0s 2ms/step - loss: 0.0400 - accuracy: 0.9912\n",
            "Epoch 71/86\n",
            "15/15 [==============================] - 0s 2ms/step - loss: 0.0392 - accuracy: 0.9912\n",
            "Epoch 72/86\n",
            "15/15 [==============================] - 0s 2ms/step - loss: 0.0399 - accuracy: 0.9912\n",
            "Epoch 73/86\n",
            "15/15 [==============================] - 0s 2ms/step - loss: 0.0386 - accuracy: 0.9912\n",
            "Epoch 74/86\n",
            "15/15 [==============================] - 0s 2ms/step - loss: 0.0372 - accuracy: 0.9912\n",
            "Epoch 75/86\n",
            "15/15 [==============================] - 0s 2ms/step - loss: 0.0367 - accuracy: 0.9912\n",
            "Epoch 76/86\n",
            "15/15 [==============================] - 0s 2ms/step - loss: 0.0365 - accuracy: 0.9912\n",
            "Epoch 77/86\n",
            "15/15 [==============================] - 0s 2ms/step - loss: 0.0384 - accuracy: 0.9912\n",
            "Epoch 78/86\n",
            "15/15 [==============================] - 0s 2ms/step - loss: 0.0370 - accuracy: 0.9912\n",
            "Epoch 79/86\n",
            "15/15 [==============================] - 0s 2ms/step - loss: 0.0352 - accuracy: 0.9934\n",
            "Epoch 80/86\n",
            "15/15 [==============================] - 0s 2ms/step - loss: 0.0344 - accuracy: 0.9912\n",
            "Epoch 81/86\n",
            "15/15 [==============================] - 0s 2ms/step - loss: 0.0340 - accuracy: 0.9912\n",
            "Epoch 82/86\n",
            "15/15 [==============================] - 0s 2ms/step - loss: 0.0332 - accuracy: 0.9912\n",
            "Epoch 83/86\n",
            "15/15 [==============================] - 0s 2ms/step - loss: 0.0332 - accuracy: 0.9912\n",
            "Epoch 84/86\n",
            "15/15 [==============================] - 0s 2ms/step - loss: 0.0328 - accuracy: 0.9912\n",
            "Epoch 85/86\n",
            "15/15 [==============================] - 0s 3ms/step - loss: 0.0322 - accuracy: 0.9934\n",
            "Epoch 86/86\n",
            "15/15 [==============================] - 0s 2ms/step - loss: 0.0320 - accuracy: 0.9912\n"
          ]
        },
        {
          "output_type": "execute_result",
          "data": {
            "text/plain": [
              "<keras.callbacks.History at 0x7f991110eb90>"
            ]
          },
          "metadata": {},
          "execution_count": 16
        }
      ]
    },
    {
      "cell_type": "code",
      "source": [
        "#EVALUATE ON TEST DATA\n",
        "test_loss, test_acc = model.evaluate(X_test, y_test, verbose=1)"
      ],
      "metadata": {
        "colab": {
          "base_uri": "https://localhost:8080/"
        },
        "id": "9Y38ZjBH0alb",
        "outputId": "17fdb975-ab25-473c-8a2e-8f200f4be2f2"
      },
      "execution_count": null,
      "outputs": [
        {
          "output_type": "stream",
          "name": "stdout",
          "text": [
            "4/4 [==============================] - 0s 3ms/step - loss: 0.0460 - accuracy: 0.9825\n"
          ]
        }
      ]
    },
    {
      "cell_type": "code",
      "source": [
        "X_new = X_test[0:3]\n",
        "y_new = model.predict(X_new)\n",
        "print('DATA SAMPLES:')\n",
        "#print(X_new)\n",
        "\n",
        "for i in np.array(X_new):\n",
        "  print(i)\n",
        "  print()\n",
        "  print()\n",
        "  print('RESULTS:')\n",
        "  class_label(y_new)"
      ],
      "metadata": {
        "colab": {
          "base_uri": "https://localhost:8080/"
        },
        "id": "dqETQi0o5s-N",
        "outputId": "dee344f2-7e88-4577-922e-5666d0e91286"
      },
      "execution_count": null,
      "outputs": [
        {
          "output_type": "stream",
          "name": "stdout",
          "text": [
            "DATA SAMPLES:\n",
            "[ 0.28605935 -0.27901438  1.012485    0.69870569  1.11030221  1.48043245\n",
            " -0.51890558 -0.14655818 -0.5418715   0.08700319 -0.42247058  0.07939928\n",
            "  1.09630936  1.14277934  1.10598399  1.49237494]\n",
            "\n",
            "\n",
            "RESULTS:\n",
            "BENIGN\n",
            "MALIGNANT\n",
            "MALIGNANT\n",
            "[ 1.38579445 -0.33243651 -0.60083932 -0.76617489 -0.70262148 -0.98544651\n",
            "  0.2413613  -0.50025448 -0.42397046 -0.55634012 -0.85555056 -0.74332998\n",
            " -0.15191524 -0.63841315 -0.73828093 -0.88951771]\n",
            "\n",
            "\n",
            "RESULTS:\n",
            "BENIGN\n",
            "MALIGNANT\n",
            "MALIGNANT\n",
            "[-0.84390103 -0.13750259 -1.18743807 -0.85210084 -0.81205349 -0.98261379\n",
            " -1.01868044 -0.46354392 -0.73404354 -0.75136391 -1.06846138 -0.63902438\n",
            " -1.26874778 -1.00462172 -1.23611931 -0.93270405]\n",
            "\n",
            "\n",
            "RESULTS:\n",
            "BENIGN\n",
            "MALIGNANT\n",
            "MALIGNANT\n"
          ]
        }
      ]
    },
    {
      "cell_type": "code",
      "source": [
        "#TAKE NEW INPUT FROM USER\n",
        "ip_data = read_input(len(X.columns))"
      ],
      "metadata": {
        "colab": {
          "base_uri": "https://localhost:8080/"
        },
        "id": "n8_x5rrf6hJd",
        "outputId": "5fdc0186-d582-4674-d263-8412cec3f90a"
      },
      "execution_count": null,
      "outputs": [
        {
          "output_type": "stream",
          "name": "stdout",
          "text": [
            "mean texture : 9.5\n",
            "\n",
            "mean area : 3.683\n",
            "\n",
            "mean smoothness : 3.2\n",
            "\n",
            "mean concavity : 8.2\n",
            "\n",
            "mean symmetry : 4.5\n",
            "\n",
            "mean fractal dimension : 8.32\n",
            "\n",
            "texture error : 7.9\n",
            "\n",
            "area error : 6.3\n",
            "\n",
            "smoothness error : 8.2\n",
            "\n",
            "concavity error : 10.11\n",
            "\n",
            "symmetry error : 3.6\n",
            "\n",
            "fractal dimension error : 7.98\n",
            "\n",
            "worst smoothness : 1.32\n",
            "\n",
            "worst concavity : 2.09\n",
            "\n",
            "worst symmetry : 1.11\n",
            "\n",
            "worst fractal dimension : 1.02\n",
            "\n"
          ]
        }
      ]
    },
    {
      "cell_type": "code",
      "source": [
        "#PREPROCESS THE DATA\n",
        "ip_data = transform(ip_data)\n"
      ],
      "metadata": {
        "id": "hQ9oGZugFzz9"
      },
      "execution_count": null,
      "outputs": []
    },
    {
      "cell_type": "code",
      "source": [
        "#MAKE PREDICTION ON NEW DATA\n",
        "y_new = model.predict(ip_data)\n"
      ],
      "metadata": {
        "id": "Jm1b2ANJF4pq"
      },
      "execution_count": null,
      "outputs": []
    },
    {
      "cell_type": "code",
      "source": [
        "#DISPLAY PREDICTION TO USER\n",
        "print('DATA SAMPLES:')\n",
        "print(np.array(ip_data))\n",
        "print()\n",
        "print('RESULTS:')\n",
        "class_label(y_new)"
      ],
      "metadata": {
        "colab": {
          "base_uri": "https://localhost:8080/"
        },
        "id": "heQkthzhF8ip",
        "outputId": "1231b21d-7046-4af3-d0c2-cde98ce9a856"
      },
      "execution_count": null,
      "outputs": [
        {
          "output_type": "stream",
          "name": "stdout",
          "text": [
            "DATA SAMPLES:\n",
            "[[ 1.30913357 -0.56633674 -0.72206171  0.88999804 -0.30292618  0.92868747\n",
            "   0.79327445  0.27741533  0.88999804  1.50580486 -0.59309693  0.81906741\n",
            "  -1.32819618 -1.07993898 -1.39590269 -1.42491976]]\n",
            "\n",
            "RESULTS:\n",
            "MALIGNANT\n"
          ]
        }
      ]
    }
  ]
}